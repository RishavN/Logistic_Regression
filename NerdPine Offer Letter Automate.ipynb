{
 "cells": [
  {
   "cell_type": "code",
   "execution_count": null,
   "metadata": {},
   "outputs": [],
   "source": [
    "import docx\n",
    "from docx.shared import Pt\n",
    "\n",
    "\n",
    "date = '04/08/2021'\n",
    "name = 'Rishav Nath'\n",
    "ad_L1 = '11, Durga Charan Doctor Road'\n",
    "ad_L2 = 'Taltala, Kolkata'\n",
    "dist = 'Pin - 700-014'\n",
    "state = 'West Bengal'\n",
    "role = 'Lead Data Analyst'\n",
    "train = \"6\"\n",
    "start = '05/08/2021'\n",
    "notice = '2 months'\n",
    "\n",
    "doc = docx.Document(r'C:\\Users\\risha\\Desktop\\Training_Offer_Letter_NerdPine.docx')\n",
    "\n",
    "for i in range(len(doc.paragraphs)):\n",
    "    if '${Date}' in doc.paragraphs[i].text:\n",
    "        doc.paragraphs[i].text = doc.paragraphs[i].text.replace('${Date}',date)\n",
    "        print(doc.paragraphs[i].text) \n",
    "    if '${Emp_Name}' in doc.paragraphs[i].text:\n",
    "        doc.paragraphs[i].text = doc.paragraphs[i].text.replace('${Emp_Name}',name)\n",
    "        print(doc.paragraphs[i].text)\n",
    "    if '${Add_L1}' in doc.paragraphs[i].text:\n",
    "        doc.paragraphs[i].text = doc.paragraphs[i].text.replace('${Add_L1}',ad_L1)\n",
    "        print(doc.paragraphs[i].text)\n",
    "    if '${Add_L2}' in doc.paragraphs[i].text:\n",
    "        doc.paragraphs[i].text = doc.paragraphs[i].text.replace('${Add_L2}',ad_L2)\n",
    "        print(doc.paragraphs[i].text)\n",
    "    if '${Dist_Pincode}' in doc.paragraphs[i].text:\n",
    "        doc.paragraphs[i].text = doc.paragraphs[i].text.replace('${Dist_Pincode}',dist)\n",
    "        print(doc.paragraphs[i].text)\n",
    "    if '${State}' in doc.paragraphs[i].text:\n",
    "        doc.paragraphs[i].text = doc.paragraphs[i].text.replace('${State}',state)\n",
    "        print(doc.paragraphs[i].text)\n",
    "    if '${Train_Time}' in doc.paragraphs[i].text:\n",
    "        doc.paragraphs[i].text = doc.paragraphs[i].text.replace('${Train_Time}',train)\n",
    "        print(doc.paragraphs[i].text)\n",
    "    if '${Role}' in doc.paragraphs[i].text:\n",
    "        doc.paragraphs[i].text = doc.paragraphs[i].text.replace('${Role}',role)\n",
    "        print(doc.paragraphs[i].text)\n",
    "    if '${Start-Date}' in doc.paragraphs[i].text:\n",
    "        doc.paragraphs[i].text = doc.paragraphs[i].text.replace('${Start-Date}',start)\n",
    "        print('\\n \\n yes\\n \\n')\n",
    "        print(doc.paragraphs[i].text)\n",
    "    if '${Notice_Per}' in doc.paragraphs[i].text:\n",
    "        doc.paragraphs[i].text = doc.paragraphs[i].text.replace('${Notice_Per}',notice)\n",
    "        print(doc.paragraphs[i].text)\n",
    "        print('\\n chaanges made \\n')\n",
    "print('\\n\\n success\\n\\n')\n",
    "\n",
    "style = doc.styles['Normal']\n",
    "font = style.font\n",
    "font.name = 'Grandview'\n",
    "font.size = Pt(10)\n",
    "doc.save(r'C:\\Users\\risha\\Desktop\\Check.docx')"
   ]
  },
  {
   "cell_type": "code",
   "execution_count": 25,
   "metadata": {},
   "outputs": [],
   "source": [
    "import pandas as pd"
   ]
  },
  {
   "cell_type": "code",
   "execution_count": 26,
   "metadata": {},
   "outputs": [],
   "source": [
    "data = pd.read_csv(r'C:\\Users\\risha\\Desktop\\data.csv')"
   ]
  },
  {
   "cell_type": "code",
   "execution_count": 28,
   "metadata": {},
   "outputs": [
    {
     "data": {
      "text/plain": [
       "'Rishav Nath'"
      ]
     },
     "execution_count": 28,
     "metadata": {},
     "output_type": "execute_result"
    }
   ],
   "source": [
    "data.iloc[0,2]\n"
   ]
  },
  {
   "cell_type": "code",
   "execution_count": 50,
   "metadata": {},
   "outputs": [],
   "source": [
    "def offer_letter():\n",
    "    import docx\n",
    "    from docx.shared import Pt\n",
    "    import pandas as pd\n",
    "    data = pd.read_csv(r'C:\\Users\\risha\\Desktop\\data.csv')\n",
    "\n",
    "\n",
    "    for j in range(len(data)):\n",
    "        doc = docx.Document(r'C:\\Users\\risha\\Desktop\\Training_Offer_Letter_NerdPine.docx')\n",
    "        for i in range(len(doc.paragraphs)):\n",
    "            if '${Date}' in doc.paragraphs[i].text:\n",
    "                doc.paragraphs[i].text = doc.paragraphs[i].text.replace('${Date}',data.iloc[j,1])\n",
    "            if '${Emp_Name}' in doc.paragraphs[i].text:\n",
    "                doc.paragraphs[i].text = doc.paragraphs[i].text.replace('${Emp_Name}',data.iloc[j,2])\n",
    "            if '${Add_L1}' in doc.paragraphs[i].text:\n",
    "                doc.paragraphs[i].text = doc.paragraphs[i].text.replace('${Add_L1}',data.iloc[j,3])\n",
    "            if '${Add_L2}' in doc.paragraphs[i].text:\n",
    "                doc.paragraphs[i].text = doc.paragraphs[i].text.replace('${Add_L2}',data.iloc[j,4])\n",
    "            if '${Dist_Pincode}' in doc.paragraphs[i].text:\n",
    "                doc.paragraphs[i].text = doc.paragraphs[i].text.replace('${Dist_Pincode}',str(data.iloc[j,5]))\n",
    "            if '${State}' in doc.paragraphs[i].text:\n",
    "                doc.paragraphs[i].text = doc.paragraphs[i].text.replace('${State}',data.iloc[j,6])\n",
    "            if '${Train_Time}' in doc.paragraphs[i].text:\n",
    "                doc.paragraphs[i].text = doc.paragraphs[i].text.replace('${Train_Time}',str(data.iloc[j,7]))\n",
    "            if '${Role}' in doc.paragraphs[i].text:\n",
    "                doc.paragraphs[i].text = doc.paragraphs[i].text.replace('${Role}',data.iloc[j,8])\n",
    "            if '${Start-Date}' in doc.paragraphs[i].text:\n",
    "                doc.paragraphs[i].text = doc.paragraphs[i].text.replace('${Start-Date}',data.iloc[j,9])\n",
    "            if '${Notice_Per}' in doc.paragraphs[i].text:\n",
    "                doc.paragraphs[i].text = doc.paragraphs[i].text.replace('${Notice_Per}',str(data.iloc[j,10]))\n",
    "        style = doc.styles['Normal']\n",
    "        font = style.font\n",
    "        font.name = 'Grandview'\n",
    "        font.size = Pt(10)\n",
    "        doc.save(f'C:\\\\Users\\\\risha\\\\Desktop\\\\Offer Letters\\\\{data.iloc[j,2]} Offer Letter.docx')\n",
    "\n",
    "   # print('\\n\\n success\\n\\n')\n",
    "\n"
   ]
  },
  {
   "cell_type": "code",
   "execution_count": 63,
   "metadata": {},
   "outputs": [
    {
     "name": "stdout",
     "output_type": "stream",
     "text": [
      "Hello, How do you want to print Offer Letters: \n",
      "1) Single Offer Letter? \n",
      "2) Multiple Offer Letter Serially? \n",
      "3) Multiple Offer Letter Sl. No. Wise?\t20\n",
      "Please Enter Correct number\n"
     ]
    }
   ],
   "source": [
    "g = int(input(\"Hello, How do you want to print Offer Letters: \\n1) Single Offer Letter? \\n2) Multiple Offer Letter Serially? \\n3) Multiple Offer Letter Sl. No. Wise?\\t\"))\n",
    "ltr=[]\n",
    "if g == 1:\n",
    "    sltr = int(input(\"Enter Offer Letter Serial Number\\t\"))\n",
    "    offer_letter(sltr,sltr)\n",
    "    print('success')\n",
    "elif g == 2:\n",
    "    ltr.clear()\n",
    "    ltr = list(map(int, input('Enter start and stop(give space)\\t').split()))\n",
    "    offer_letter(ltr[0],ltr[1])\n",
    "    print('success')\n",
    "elif g == 3:\n",
    "    ltr.clear()\n",
    "    ltr = list(map(int, input('Enter serial numbers (give space)\\t').split()))\n",
    "    for k in ltr:\n",
    "        offer_letter(k,k)\n",
    "    print('success')\n",
    "else:\n",
    "    print(\"Please Enter Correct number\")\n"
   ]
  },
  {
   "cell_type": "code",
   "execution_count": null,
   "metadata": {},
   "outputs": [],
   "source": []
  },
  {
   "cell_type": "code",
   "execution_count": 36,
   "metadata": {},
   "outputs": [
    {
     "name": "stdout",
     "output_type": "stream",
     "text": [
      "10\n",
      "10\n",
      "9\n"
     ]
    }
   ],
   "source": [
    "a = int(input())\n",
    "b = int(input())\n",
    "for i in range(a-1,b):\n",
    "    print(i)"
   ]
  },
  {
   "cell_type": "code",
   "execution_count": 21,
   "metadata": {},
   "outputs": [
    {
     "name": "stdout",
     "output_type": "stream",
     "text": [
      "Hello, How do you want to print Offer Letters: \n",
      "1) Single Offer Letter? \n",
      "\n",
      "2) Multiple Offer Letter Serially? \n",
      "\n",
      "3) Multiple Offer Letter Sl. No. Wise?\t1\n",
      "Enter Offer Letter Serial Number\t1\n"
     ]
    },
    {
     "ename": "TypeError",
     "evalue": "replace() argument 2 must be str, not numpy.int64",
     "output_type": "error",
     "traceback": [
      "\u001b[1;31m---------------------------------------------------------------------------\u001b[0m",
      "\u001b[1;31mTypeError\u001b[0m                                 Traceback (most recent call last)",
      "\u001b[1;32m<ipython-input-21-919dea80c099>\u001b[0m in \u001b[0;36m<module>\u001b[1;34m\u001b[0m\n\u001b[0;32m     41\u001b[0m \u001b[1;32mif\u001b[0m \u001b[0mg\u001b[0m \u001b[1;33m==\u001b[0m \u001b[1;36m1\u001b[0m\u001b[1;33m:\u001b[0m\u001b[1;33m\u001b[0m\u001b[1;33m\u001b[0m\u001b[0m\n\u001b[0;32m     42\u001b[0m     \u001b[0msltr\u001b[0m \u001b[1;33m=\u001b[0m \u001b[0mint\u001b[0m\u001b[1;33m(\u001b[0m\u001b[0minput\u001b[0m\u001b[1;33m(\u001b[0m\u001b[1;34m\"Enter Offer Letter Serial Number\\t\"\u001b[0m\u001b[1;33m)\u001b[0m\u001b[1;33m)\u001b[0m\u001b[1;33m\u001b[0m\u001b[1;33m\u001b[0m\u001b[0m\n\u001b[1;32m---> 43\u001b[1;33m     \u001b[0moffer_letter\u001b[0m\u001b[1;33m(\u001b[0m\u001b[0msltr\u001b[0m\u001b[1;33m,\u001b[0m\u001b[0msltr\u001b[0m\u001b[1;33m)\u001b[0m\u001b[1;33m\u001b[0m\u001b[1;33m\u001b[0m\u001b[0m\n\u001b[0m\u001b[0;32m     44\u001b[0m     \u001b[0mprint\u001b[0m\u001b[1;33m(\u001b[0m\u001b[1;34m'success'\u001b[0m\u001b[1;33m)\u001b[0m\u001b[1;33m\u001b[0m\u001b[1;33m\u001b[0m\u001b[0m\n\u001b[0;32m     45\u001b[0m \u001b[1;32melif\u001b[0m \u001b[0mg\u001b[0m \u001b[1;33m==\u001b[0m \u001b[1;36m2\u001b[0m\u001b[1;33m:\u001b[0m\u001b[1;33m\u001b[0m\u001b[1;33m\u001b[0m\u001b[0m\n",
      "\u001b[1;32m<ipython-input-21-919dea80c099>\u001b[0m in \u001b[0;36moffer_letter\u001b[1;34m(a, b)\u001b[0m\n\u001b[0;32m     12\u001b[0m                 \u001b[0mdoc\u001b[0m\u001b[1;33m.\u001b[0m\u001b[0mparagraphs\u001b[0m\u001b[1;33m[\u001b[0m\u001b[0mi\u001b[0m\u001b[1;33m]\u001b[0m\u001b[1;33m.\u001b[0m\u001b[0mtext\u001b[0m \u001b[1;33m=\u001b[0m \u001b[0mdoc\u001b[0m\u001b[1;33m.\u001b[0m\u001b[0mparagraphs\u001b[0m\u001b[1;33m[\u001b[0m\u001b[0mi\u001b[0m\u001b[1;33m]\u001b[0m\u001b[1;33m.\u001b[0m\u001b[0mtext\u001b[0m\u001b[1;33m.\u001b[0m\u001b[0mreplace\u001b[0m\u001b[1;33m(\u001b[0m\u001b[1;34m'${Date}'\u001b[0m\u001b[1;33m,\u001b[0m\u001b[0mdata\u001b[0m\u001b[1;33m.\u001b[0m\u001b[0miloc\u001b[0m\u001b[1;33m[\u001b[0m\u001b[0mj\u001b[0m\u001b[1;33m,\u001b[0m\u001b[1;36m1\u001b[0m\u001b[1;33m]\u001b[0m\u001b[1;33m)\u001b[0m\u001b[1;33m\u001b[0m\u001b[1;33m\u001b[0m\u001b[0m\n\u001b[0;32m     13\u001b[0m             \u001b[1;32mif\u001b[0m \u001b[1;34m'${Emp_Name}'\u001b[0m \u001b[1;32min\u001b[0m \u001b[0mdoc\u001b[0m\u001b[1;33m.\u001b[0m\u001b[0mparagraphs\u001b[0m\u001b[1;33m[\u001b[0m\u001b[0mi\u001b[0m\u001b[1;33m]\u001b[0m\u001b[1;33m.\u001b[0m\u001b[0mtext\u001b[0m\u001b[1;33m:\u001b[0m\u001b[1;33m\u001b[0m\u001b[1;33m\u001b[0m\u001b[0m\n\u001b[1;32m---> 14\u001b[1;33m                 \u001b[0mdoc\u001b[0m\u001b[1;33m.\u001b[0m\u001b[0mparagraphs\u001b[0m\u001b[1;33m[\u001b[0m\u001b[0mi\u001b[0m\u001b[1;33m]\u001b[0m\u001b[1;33m.\u001b[0m\u001b[0mtext\u001b[0m \u001b[1;33m=\u001b[0m \u001b[0mdoc\u001b[0m\u001b[1;33m.\u001b[0m\u001b[0mparagraphs\u001b[0m\u001b[1;33m[\u001b[0m\u001b[0mi\u001b[0m\u001b[1;33m]\u001b[0m\u001b[1;33m.\u001b[0m\u001b[0mtext\u001b[0m\u001b[1;33m.\u001b[0m\u001b[0mreplace\u001b[0m\u001b[1;33m(\u001b[0m\u001b[1;34m'${Emp_Name}'\u001b[0m\u001b[1;33m,\u001b[0m\u001b[0mdata\u001b[0m\u001b[1;33m.\u001b[0m\u001b[0miloc\u001b[0m\u001b[1;33m[\u001b[0m\u001b[0mj\u001b[0m\u001b[1;33m,\u001b[0m\u001b[1;36m2\u001b[0m\u001b[1;33m]\u001b[0m\u001b[1;33m)\u001b[0m\u001b[1;33m\u001b[0m\u001b[1;33m\u001b[0m\u001b[0m\n\u001b[0m\u001b[0;32m     15\u001b[0m             \u001b[1;32mif\u001b[0m \u001b[1;34m'${Add_L1}'\u001b[0m \u001b[1;32min\u001b[0m \u001b[0mdoc\u001b[0m\u001b[1;33m.\u001b[0m\u001b[0mparagraphs\u001b[0m\u001b[1;33m[\u001b[0m\u001b[0mi\u001b[0m\u001b[1;33m]\u001b[0m\u001b[1;33m.\u001b[0m\u001b[0mtext\u001b[0m\u001b[1;33m:\u001b[0m\u001b[1;33m\u001b[0m\u001b[1;33m\u001b[0m\u001b[0m\n\u001b[0;32m     16\u001b[0m                 \u001b[0mdoc\u001b[0m\u001b[1;33m.\u001b[0m\u001b[0mparagraphs\u001b[0m\u001b[1;33m[\u001b[0m\u001b[0mi\u001b[0m\u001b[1;33m]\u001b[0m\u001b[1;33m.\u001b[0m\u001b[0mtext\u001b[0m \u001b[1;33m=\u001b[0m \u001b[0mdoc\u001b[0m\u001b[1;33m.\u001b[0m\u001b[0mparagraphs\u001b[0m\u001b[1;33m[\u001b[0m\u001b[0mi\u001b[0m\u001b[1;33m]\u001b[0m\u001b[1;33m.\u001b[0m\u001b[0mtext\u001b[0m\u001b[1;33m.\u001b[0m\u001b[0mreplace\u001b[0m\u001b[1;33m(\u001b[0m\u001b[1;34m'${Add_L1}'\u001b[0m\u001b[1;33m,\u001b[0m\u001b[0mdata\u001b[0m\u001b[1;33m.\u001b[0m\u001b[0miloc\u001b[0m\u001b[1;33m[\u001b[0m\u001b[0mj\u001b[0m\u001b[1;33m,\u001b[0m\u001b[1;36m3\u001b[0m\u001b[1;33m]\u001b[0m\u001b[1;33m)\u001b[0m\u001b[1;33m\u001b[0m\u001b[1;33m\u001b[0m\u001b[0m\n",
      "\u001b[1;31mTypeError\u001b[0m: replace() argument 2 must be str, not numpy.int64"
     ]
    }
   ],
   "source": [
    "def offer_letter(a,b):\n",
    "    import docx\n",
    "    from docx.shared import Pt\n",
    "    import pandas as pd\n",
    "    data = pd.read_csv(r'C:\\Users\\risha\\Desktop\\data.csv')\n",
    "\n",
    "\n",
    "    for j in range(a-1,b):\n",
    "        doc = docx.Document(r'C:\\Users\\risha\\Desktop\\Training_Offer_Letter_NerdPine.docx')\n",
    "        for i in range(len(doc.paragraphs)):\n",
    "            if '${Date}' in doc.paragraphs[i].text:\n",
    "                doc.paragraphs[i].text = doc.paragraphs[i].text.replace('${Date}',data.iloc[j,1])\n",
    "            if '${Emp_Name}' in doc.paragraphs[i].text:\n",
    "                doc.paragraphs[i].text = doc.paragraphs[i].text.replace('${Emp_Name}',data.iloc[j,2])\n",
    "            if '${Add_L1}' in doc.paragraphs[i].text:\n",
    "                doc.paragraphs[i].text = doc.paragraphs[i].text.replace('${Add_L1}',data.iloc[j,3])\n",
    "            if '${Add_L2}' in doc.paragraphs[i].text:\n",
    "                doc.paragraphs[i].text = doc.paragraphs[i].text.replace('${Add_L2}',data.iloc[j,4])\n",
    "            if '${Dist_Pincode}' in doc.paragraphs[i].text:\n",
    "                doc.paragraphs[i].text = doc.paragraphs[i].text.replace('${Dist_Pincode}',str(data.iloc[j,5]))\n",
    "            if '${State}' in doc.paragraphs[i].text:\n",
    "                doc.paragraphs[i].text = doc.paragraphs[i].text.replace('${State}',data.iloc[j,6])\n",
    "            if '${Train_Time}' in doc.paragraphs[i].text:\n",
    "                doc.paragraphs[i].text = doc.paragraphs[i].text.replace('${Train_Time}',str(data.iloc[j,7]))\n",
    "            if '${Role}' in doc.paragraphs[i].text:\n",
    "                doc.paragraphs[i].text = doc.paragraphs[i].text.replace('${Role}',data.iloc[j,8])\n",
    "            if '${Start-Date}' in doc.paragraphs[i].text:\n",
    "                doc.paragraphs[i].text = doc.paragraphs[i].text.replace('${Start-Date}',data.iloc[j,9])\n",
    "            if '${Notice_Per}' in doc.paragraphs[i].text:\n",
    "                doc.paragraphs[i].text = doc.paragraphs[i].text.replace('${Notice_Per}',str(data.iloc[j,10]))\n",
    "        style = doc.styles['Normal']\n",
    "        font = style.font\n",
    "        font.name = 'Grandview'\n",
    "        font.size = Pt(10)\n",
    "        doc.save(f'C:\\\\Users\\\\risha\\\\Desktop\\\\Offer Letters\\\\{data.iloc[j,2]} Offer Letter.docx')\n",
    "\n",
    "        \n",
    "        \n",
    "g = int(input(\"Hello, How do you want to print Offer Letters: \\n1) Single Offer Letter? \\n\\n2) Multiple Offer Letter Serially? \\n\\n3) Multiple Offer Letter Sl. No. Wise?\\t\"))\n",
    "ltr=[]\n",
    "if g == 1:\n",
    "    sltr = int(input(\"Enter Offer Letter Serial Number\\t\"))\n",
    "    offer_letter(sltr,sltr)\n",
    "    print('success')\n",
    "elif g == 2:\n",
    "    ltr.clear()\n",
    "    ltr = list(map(int, input('Enter start and stop(give space)\\t').split()))\n",
    "    offer_letter(ltr[0],ltr[1])\n",
    "    print('success')\n",
    "elif g == 3:\n",
    "    ltr.clear()\n",
    "    ltr = list(map(int, input('Enter serial numbers (give space)\\t').split()))\n",
    "    for k in ltr:\n",
    "        offer_letter(k,k)\n",
    "    print('success')\n",
    "else:\n",
    "    print(\"Please Enter Correct number\")\n",
    "\n"
   ]
  },
  {
   "cell_type": "code",
   "execution_count": 3,
   "metadata": {},
   "outputs": [],
   "source": [
    "import pandas\n"
   ]
  },
  {
   "cell_type": "code",
   "execution_count": 4,
   "metadata": {},
   "outputs": [
    {
     "ename": "SyntaxError",
     "evalue": "invalid syntax (<ipython-input-4-0502a33db493>, line 1)",
     "output_type": "error",
     "traceback": [
      "\u001b[1;36m  File \u001b[1;32m\"<ipython-input-4-0502a33db493>\"\u001b[1;36m, line \u001b[1;32m1\u001b[0m\n\u001b[1;33m    p = pd.read_xls(https://docs.google.com/spreadsheets/d/1GPfJr-y_CNc2LeU8_knx2uNS-ZVQyc_UKCzagO8Q-GU/edit?usp=sharing)\u001b[0m\n\u001b[1;37m                         ^\u001b[0m\n\u001b[1;31mSyntaxError\u001b[0m\u001b[1;31m:\u001b[0m invalid syntax\n"
     ]
    }
   ],
   "source": [
    "p = pd.read_xls(https://docs.google.com/spreadsheets/d/1GPfJr-y_CNc2LeU8_knx2uNS-ZVQyc_UKCzagO8Q-GU/edit?usp=sharing)"
   ]
  },
  {
   "cell_type": "code",
   "execution_count": 18,
   "metadata": {},
   "outputs": [],
   "source": [
    "import pandas as pd\n",
    "df1 = pd.read_csv(r'C:\\Users\\risha\\Desktop\\data.csv')\n",
    "df2 = pd.read_csv(r'C:\\Users\\risha\\Desktop\\data2.csv')"
   ]
  },
  {
   "cell_type": "code",
   "execution_count": 19,
   "metadata": {},
   "outputs": [],
   "source": [
    "result = pd.merge(df1, df2, how=\"left\", on=[\"Name\"])"
   ]
  },
  {
   "cell_type": "code",
   "execution_count": 20,
   "metadata": {},
   "outputs": [
    {
     "data": {
      "text/html": [
       "<div>\n",
       "<style scoped>\n",
       "    .dataframe tbody tr th:only-of-type {\n",
       "        vertical-align: middle;\n",
       "    }\n",
       "\n",
       "    .dataframe tbody tr th {\n",
       "        vertical-align: top;\n",
       "    }\n",
       "\n",
       "    .dataframe thead th {\n",
       "        text-align: right;\n",
       "    }\n",
       "</style>\n",
       "<table border=\"1\" class=\"dataframe\">\n",
       "  <thead>\n",
       "    <tr style=\"text-align: right;\">\n",
       "      <th></th>\n",
       "      <th>Name</th>\n",
       "      <th>State</th>\n",
       "      <th>Train_Time</th>\n",
       "      <th>Role</th>\n",
       "      <th>Start-Date</th>\n",
       "      <th>Notice Period</th>\n",
       "      <th>Sl</th>\n",
       "      <th>Date</th>\n",
       "      <th>Add_L1</th>\n",
       "      <th>Add_L2</th>\n",
       "      <th>Dist_Pincode</th>\n",
       "    </tr>\n",
       "  </thead>\n",
       "  <tbody>\n",
       "    <tr>\n",
       "      <th>0</th>\n",
       "      <td>Rishav Nath</td>\n",
       "      <td>West Bengal</td>\n",
       "      <td>6</td>\n",
       "      <td>Data Analyst</td>\n",
       "      <td>05-08-2021</td>\n",
       "      <td>2</td>\n",
       "      <td>1.0</td>\n",
       "      <td>04-08-2021</td>\n",
       "      <td>11,Durga Charan Doctor Road</td>\n",
       "      <td>Taltala, Kolkata</td>\n",
       "      <td>700014</td>\n",
       "    </tr>\n",
       "    <tr>\n",
       "      <th>1</th>\n",
       "      <td>Praveen Boya</td>\n",
       "      <td>Andhra Pradesh</td>\n",
       "      <td>6</td>\n",
       "      <td>Data Engineer</td>\n",
       "      <td>09-08-2021</td>\n",
       "      <td>2</td>\n",
       "      <td>2.0</td>\n",
       "      <td>05-08-2021</td>\n",
       "      <td>304 Anusha Apartments</td>\n",
       "      <td>New Resapuvanipalem Road</td>\n",
       "      <td>530003</td>\n",
       "    </tr>\n",
       "    <tr>\n",
       "      <th>2</th>\n",
       "      <td>Anirban Mitra</td>\n",
       "      <td>West Bengal</td>\n",
       "      <td>8</td>\n",
       "      <td>Data Entry</td>\n",
       "      <td>10-08-2021</td>\n",
       "      <td>3</td>\n",
       "      <td>NaN</td>\n",
       "      <td>06-08-2021</td>\n",
       "      <td>32 abc road</td>\n",
       "      <td>howrah</td>\n",
       "      <td>711102</td>\n",
       "    </tr>\n",
       "  </tbody>\n",
       "</table>\n",
       "</div>"
      ],
      "text/plain": [
       "            Name           State  Train_Time           Role  Start-Date  \\\n",
       "0    Rishav Nath     West Bengal           6   Data Analyst  05-08-2021   \n",
       "1   Praveen Boya  Andhra Pradesh           6  Data Engineer  09-08-2021   \n",
       "2  Anirban Mitra     West Bengal           8     Data Entry  10-08-2021   \n",
       "\n",
       "   Notice Period   Sl        Date                       Add_L1  \\\n",
       "0              2  1.0  04-08-2021  11,Durga Charan Doctor Road   \n",
       "1              2  2.0  05-08-2021        304 Anusha Apartments   \n",
       "2              3  NaN  06-08-2021                  32 abc road   \n",
       "\n",
       "                      Add_L2  Dist_Pincode  \n",
       "0           Taltala, Kolkata        700014  \n",
       "1  New Resapuvanipalem Road         530003  \n",
       "2                     howrah        711102  "
      ]
     },
     "execution_count": 20,
     "metadata": {},
     "output_type": "execute_result"
    }
   ],
   "source": [
    "result"
   ]
  }
 ],
 "metadata": {
  "kernelspec": {
   "display_name": "Python 3",
   "language": "python",
   "name": "python3"
  },
  "language_info": {
   "codemirror_mode": {
    "name": "ipython",
    "version": 3
   },
   "file_extension": ".py",
   "mimetype": "text/x-python",
   "name": "python",
   "nbconvert_exporter": "python",
   "pygments_lexer": "ipython3",
   "version": "3.8.5"
  }
 },
 "nbformat": 4,
 "nbformat_minor": 4
}
