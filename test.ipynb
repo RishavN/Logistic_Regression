for i in range(10):
  print(i)

for j in range(15):
  if j%3 == 0:
     print(j)
  esle:
     pass
